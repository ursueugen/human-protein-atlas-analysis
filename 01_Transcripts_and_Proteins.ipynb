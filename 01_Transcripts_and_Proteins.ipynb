{
 "cells": [
  {
   "cell_type": "code",
   "execution_count": 83,
   "metadata": {},
   "outputs": [],
   "source": [
    "from pathlib import Path\n",
    "import numpy as np\n",
    "import pandas as pd\n",
    "import matplotlib.pyplot as plt\n",
    "import seaborn as sns\n",
    "from scipy import stats\n",
    "\n",
    "import utils"
   ]
  },
  {
   "cell_type": "markdown",
   "metadata": {},
   "source": [
    "## Explore correlation between expression and protein level\n",
    "\n",
    "### Protein data\n",
    "\n",
    "Protein data extracted per (tissue, cell type). Data is filtered for approved measurements (by `Reliability`)."
   ]
  },
  {
   "cell_type": "code",
   "execution_count": 12,
   "metadata": {},
   "outputs": [
    {
     "data": {
      "text/html": [
       "<div>\n",
       "<style scoped>\n",
       "    .dataframe tbody tr th:only-of-type {\n",
       "        vertical-align: middle;\n",
       "    }\n",
       "\n",
       "    .dataframe tbody tr th {\n",
       "        vertical-align: top;\n",
       "    }\n",
       "\n",
       "    .dataframe thead th {\n",
       "        text-align: right;\n",
       "    }\n",
       "</style>\n",
       "<table border=\"1\" class=\"dataframe\">\n",
       "  <thead>\n",
       "    <tr style=\"text-align: right;\">\n",
       "      <th></th>\n",
       "      <th>Gene</th>\n",
       "      <th>Gene name</th>\n",
       "      <th>Tissue</th>\n",
       "      <th>Cell type</th>\n",
       "      <th>Level</th>\n",
       "      <th>Reliability</th>\n",
       "    </tr>\n",
       "  </thead>\n",
       "  <tbody>\n",
       "    <tr>\n",
       "      <th>0</th>\n",
       "      <td>ENSG00000000003</td>\n",
       "      <td>TSPAN6</td>\n",
       "      <td>adipose tissue</td>\n",
       "      <td>adipocytes</td>\n",
       "      <td>Not detected</td>\n",
       "      <td>Approved</td>\n",
       "    </tr>\n",
       "    <tr>\n",
       "      <th>80</th>\n",
       "      <td>ENSG00000000419</td>\n",
       "      <td>DPM1</td>\n",
       "      <td>adipose tissue</td>\n",
       "      <td>adipocytes</td>\n",
       "      <td>Medium</td>\n",
       "      <td>Approved</td>\n",
       "    </tr>\n",
       "    <tr>\n",
       "      <th>159</th>\n",
       "      <td>ENSG00000000457</td>\n",
       "      <td>SCYL3</td>\n",
       "      <td>adipose tissue</td>\n",
       "      <td>adipocytes</td>\n",
       "      <td>Low</td>\n",
       "      <td>Approved</td>\n",
       "    </tr>\n",
       "    <tr>\n",
       "      <th>240</th>\n",
       "      <td>ENSG00000000460</td>\n",
       "      <td>C1orf112</td>\n",
       "      <td>adipose tissue</td>\n",
       "      <td>adipocytes</td>\n",
       "      <td>Medium</td>\n",
       "      <td>Uncertain</td>\n",
       "    </tr>\n",
       "    <tr>\n",
       "      <th>320</th>\n",
       "      <td>ENSG00000000938</td>\n",
       "      <td>FGR</td>\n",
       "      <td>adipose tissue</td>\n",
       "      <td>adipocytes</td>\n",
       "      <td>Not detected</td>\n",
       "      <td>Enhanced</td>\n",
       "    </tr>\n",
       "    <tr>\n",
       "      <th>399</th>\n",
       "      <td>ENSG00000000971</td>\n",
       "      <td>CFH</td>\n",
       "      <td>adipose tissue</td>\n",
       "      <td>adipocytes</td>\n",
       "      <td>Not detected</td>\n",
       "      <td>Supported</td>\n",
       "    </tr>\n",
       "    <tr>\n",
       "      <th>515</th>\n",
       "      <td>ENSG00000001036</td>\n",
       "      <td>FUCA2</td>\n",
       "      <td>adipose tissue</td>\n",
       "      <td>adipocytes</td>\n",
       "      <td>Not detected</td>\n",
       "      <td>Approved</td>\n",
       "    </tr>\n",
       "    <tr>\n",
       "      <th>602</th>\n",
       "      <td>ENSG00000001084</td>\n",
       "      <td>GCLC</td>\n",
       "      <td>adipose tissue</td>\n",
       "      <td>adipocytes</td>\n",
       "      <td>Medium</td>\n",
       "      <td>Approved</td>\n",
       "    </tr>\n",
       "    <tr>\n",
       "      <th>679</th>\n",
       "      <td>ENSG00000001167</td>\n",
       "      <td>NFYA</td>\n",
       "      <td>adipose tissue</td>\n",
       "      <td>adipocytes</td>\n",
       "      <td>Not detected</td>\n",
       "      <td>Enhanced</td>\n",
       "    </tr>\n",
       "    <tr>\n",
       "      <th>764</th>\n",
       "      <td>ENSG00000001461</td>\n",
       "      <td>NIPAL3</td>\n",
       "      <td>adipose tissue</td>\n",
       "      <td>adipocytes</td>\n",
       "      <td>Low</td>\n",
       "      <td>Approved</td>\n",
       "    </tr>\n",
       "  </tbody>\n",
       "</table>\n",
       "</div>"
      ],
      "text/plain": [
       "                Gene Gene name          Tissue   Cell type         Level  \\\n",
       "0    ENSG00000000003    TSPAN6  adipose tissue  adipocytes  Not detected   \n",
       "80   ENSG00000000419      DPM1  adipose tissue  adipocytes        Medium   \n",
       "159  ENSG00000000457     SCYL3  adipose tissue  adipocytes           Low   \n",
       "240  ENSG00000000460  C1orf112  adipose tissue  adipocytes        Medium   \n",
       "320  ENSG00000000938       FGR  adipose tissue  adipocytes  Not detected   \n",
       "399  ENSG00000000971       CFH  adipose tissue  adipocytes  Not detected   \n",
       "515  ENSG00000001036     FUCA2  adipose tissue  adipocytes  Not detected   \n",
       "602  ENSG00000001084      GCLC  adipose tissue  adipocytes        Medium   \n",
       "679  ENSG00000001167      NFYA  adipose tissue  adipocytes  Not detected   \n",
       "764  ENSG00000001461    NIPAL3  adipose tissue  adipocytes           Low   \n",
       "\n",
       "    Reliability  \n",
       "0      Approved  \n",
       "80     Approved  \n",
       "159    Approved  \n",
       "240   Uncertain  \n",
       "320    Enhanced  \n",
       "399   Supported  \n",
       "515    Approved  \n",
       "602    Approved  \n",
       "679    Enhanced  \n",
       "764    Approved  "
      ]
     },
     "execution_count": 12,
     "metadata": {},
     "output_type": "execute_result"
    }
   ],
   "source": [
    "df_nt = pd.read_csv(utils.Paths.NORMAL_TISSUE_PATH, sep='\\t').sort_values([\"Tissue\", \"Cell type\"])\n",
    "df_nt.head(10)"
   ]
  },
  {
   "cell_type": "code",
   "execution_count": 23,
   "metadata": {},
   "outputs": [
    {
     "name": "stdout",
     "output_type": "stream",
     "text": [
      "For the most (Tissue, Cell type, Gene name) tuples, there is 1 value: \n"
     ]
    },
    {
     "data": {
      "text/plain": [
       "1    1190725\n",
       "2        313\n",
       "dtype: int64"
      ]
     },
     "execution_count": 23,
     "metadata": {},
     "output_type": "execute_result"
    }
   ],
   "source": [
    "df_g_size = df_nt.groupby([\"Tissue\", \"Cell type\", \"Gene name\"]).agg(\"size\")\n",
    "print(f\"For the most (Tissue, Cell type, Gene name) tuples, there is 1 value: \")\n",
    "df_g_size.value_counts()"
   ]
  },
  {
   "cell_type": "code",
   "execution_count": 28,
   "metadata": {},
   "outputs": [
    {
     "data": {
      "text/plain": [
       "Approved     459637\n",
       "Enhanced     388426\n",
       "Uncertain    184928\n",
       "Supported    160227\n",
       "Name: Reliability, dtype: int64"
      ]
     },
     "execution_count": 28,
     "metadata": {},
     "output_type": "execute_result"
    }
   ],
   "source": [
    "df_nt['Reliability'].value_counts()"
   ]
  },
  {
   "cell_type": "code",
   "execution_count": 39,
   "metadata": {},
   "outputs": [],
   "source": [
    "df_nt = df_nt.loc[df_nt['Reliability'] == 'Approved'].copy()\n",
    "df_nt = df_nt.loc[df_nt['Level'] != 'Ascending'].copy()\n",
    "\n",
    "level_map = {\n",
    "    'Not detected': 0,\n",
    "    'Low': 1,\n",
    "    'Medium': 2,\n",
    "    'High': 3,\n",
    "    'Ascending': np.nan\n",
    "}\n",
    "\n",
    "df_nt['Level_numeric'] = df_nt['Level'].map(level_map)\n",
    "df_nt['Level_numeric'] = df_nt['Level_numeric'].astype(np.int8)"
   ]
  },
  {
   "cell_type": "code",
   "execution_count": 47,
   "metadata": {},
   "outputs": [
    {
     "data": {
      "text/html": [
       "<div>\n",
       "<style scoped>\n",
       "    .dataframe tbody tr th:only-of-type {\n",
       "        vertical-align: middle;\n",
       "    }\n",
       "\n",
       "    .dataframe tbody tr th {\n",
       "        vertical-align: top;\n",
       "    }\n",
       "\n",
       "    .dataframe thead th {\n",
       "        text-align: right;\n",
       "    }\n",
       "</style>\n",
       "<table border=\"1\" class=\"dataframe\">\n",
       "  <thead>\n",
       "    <tr style=\"text-align: right;\">\n",
       "      <th></th>\n",
       "      <th></th>\n",
       "      <th></th>\n",
       "      <th>Level_numeric</th>\n",
       "    </tr>\n",
       "    <tr>\n",
       "      <th>Tissue</th>\n",
       "      <th>Cell type</th>\n",
       "      <th>Gene name</th>\n",
       "      <th></th>\n",
       "    </tr>\n",
       "  </thead>\n",
       "  <tbody>\n",
       "    <tr>\n",
       "      <th rowspan=\"5\" valign=\"top\">adipose tissue</th>\n",
       "      <th rowspan=\"5\" valign=\"top\">adipocytes</th>\n",
       "      <th>AAAS</th>\n",
       "      <td>0</td>\n",
       "    </tr>\n",
       "    <tr>\n",
       "      <th>AACS</th>\n",
       "      <td>2</td>\n",
       "    </tr>\n",
       "    <tr>\n",
       "      <th>AADAC</th>\n",
       "      <td>0</td>\n",
       "    </tr>\n",
       "    <tr>\n",
       "      <th>AAMP</th>\n",
       "      <td>3</td>\n",
       "    </tr>\n",
       "    <tr>\n",
       "      <th>AARS2</th>\n",
       "      <td>1</td>\n",
       "    </tr>\n",
       "  </tbody>\n",
       "</table>\n",
       "</div>"
      ],
      "text/plain": [
       "                                     Level_numeric\n",
       "Tissue         Cell type  Gene name               \n",
       "adipose tissue adipocytes AAAS                   0\n",
       "                          AACS                   2\n",
       "                          AADAC                  0\n",
       "                          AAMP                   3\n",
       "                          AARS2                  1"
      ]
     },
     "execution_count": 47,
     "metadata": {},
     "output_type": "execute_result"
    }
   ],
   "source": [
    "df_prot = df_nt.groupby([\"Tissue\", \"Cell type\", \"Gene name\"])[['Level_numeric']].max()\n",
    "df_prot.head()"
   ]
  },
  {
   "cell_type": "markdown",
   "metadata": {},
   "source": [
    "### Transcript data\n",
    "\n",
    "pTPMs are used for transcript abundance measurement. For each (Tissue, Cell type, Gene name), values are median-aggregated over the clusters"
   ]
  },
  {
   "cell_type": "code",
   "execution_count": 14,
   "metadata": {},
   "outputs": [
    {
     "data": {
      "text/html": [
       "<div>\n",
       "<style scoped>\n",
       "    .dataframe tbody tr th:only-of-type {\n",
       "        vertical-align: middle;\n",
       "    }\n",
       "\n",
       "    .dataframe tbody tr th {\n",
       "        vertical-align: top;\n",
       "    }\n",
       "\n",
       "    .dataframe thead th {\n",
       "        text-align: right;\n",
       "    }\n",
       "</style>\n",
       "<table border=\"1\" class=\"dataframe\">\n",
       "  <thead>\n",
       "    <tr style=\"text-align: right;\">\n",
       "      <th></th>\n",
       "      <th>Gene</th>\n",
       "      <th>Gene name</th>\n",
       "      <th>Tissue</th>\n",
       "      <th>Cluster</th>\n",
       "      <th>Cell type</th>\n",
       "      <th>Read count</th>\n",
       "      <th>pTPM</th>\n",
       "    </tr>\n",
       "  </thead>\n",
       "  <tbody>\n",
       "    <tr>\n",
       "      <th>11</th>\n",
       "      <td>ENSG00000000003</td>\n",
       "      <td>TSPAN6</td>\n",
       "      <td>adipose tissue</td>\n",
       "      <td>c-11</td>\n",
       "      <td>adipocytes</td>\n",
       "      <td>5809519</td>\n",
       "      <td>248.2</td>\n",
       "    </tr>\n",
       "    <tr>\n",
       "      <th>22</th>\n",
       "      <td>ENSG00000000003</td>\n",
       "      <td>TSPAN6</td>\n",
       "      <td>adipose tissue</td>\n",
       "      <td>c-22</td>\n",
       "      <td>adipocytes</td>\n",
       "      <td>966392</td>\n",
       "      <td>132.5</td>\n",
       "    </tr>\n",
       "    <tr>\n",
       "      <th>455</th>\n",
       "      <td>ENSG00000000005</td>\n",
       "      <td>TNMD</td>\n",
       "      <td>adipose tissue</td>\n",
       "      <td>c-11</td>\n",
       "      <td>adipocytes</td>\n",
       "      <td>5809519</td>\n",
       "      <td>78.7</td>\n",
       "    </tr>\n",
       "    <tr>\n",
       "      <th>466</th>\n",
       "      <td>ENSG00000000005</td>\n",
       "      <td>TNMD</td>\n",
       "      <td>adipose tissue</td>\n",
       "      <td>c-22</td>\n",
       "      <td>adipocytes</td>\n",
       "      <td>966392</td>\n",
       "      <td>41.4</td>\n",
       "    </tr>\n",
       "    <tr>\n",
       "      <th>899</th>\n",
       "      <td>ENSG00000000419</td>\n",
       "      <td>DPM1</td>\n",
       "      <td>adipose tissue</td>\n",
       "      <td>c-11</td>\n",
       "      <td>adipocytes</td>\n",
       "      <td>5809519</td>\n",
       "      <td>53.5</td>\n",
       "    </tr>\n",
       "    <tr>\n",
       "      <th>910</th>\n",
       "      <td>ENSG00000000419</td>\n",
       "      <td>DPM1</td>\n",
       "      <td>adipose tissue</td>\n",
       "      <td>c-22</td>\n",
       "      <td>adipocytes</td>\n",
       "      <td>966392</td>\n",
       "      <td>31.0</td>\n",
       "    </tr>\n",
       "    <tr>\n",
       "      <th>1343</th>\n",
       "      <td>ENSG00000000457</td>\n",
       "      <td>SCYL3</td>\n",
       "      <td>adipose tissue</td>\n",
       "      <td>c-11</td>\n",
       "      <td>adipocytes</td>\n",
       "      <td>5809519</td>\n",
       "      <td>6.4</td>\n",
       "    </tr>\n",
       "    <tr>\n",
       "      <th>1354</th>\n",
       "      <td>ENSG00000000457</td>\n",
       "      <td>SCYL3</td>\n",
       "      <td>adipose tissue</td>\n",
       "      <td>c-22</td>\n",
       "      <td>adipocytes</td>\n",
       "      <td>966392</td>\n",
       "      <td>4.1</td>\n",
       "    </tr>\n",
       "    <tr>\n",
       "      <th>1787</th>\n",
       "      <td>ENSG00000000460</td>\n",
       "      <td>C1orf112</td>\n",
       "      <td>adipose tissue</td>\n",
       "      <td>c-11</td>\n",
       "      <td>adipocytes</td>\n",
       "      <td>5809519</td>\n",
       "      <td>1.7</td>\n",
       "    </tr>\n",
       "    <tr>\n",
       "      <th>1798</th>\n",
       "      <td>ENSG00000000460</td>\n",
       "      <td>C1orf112</td>\n",
       "      <td>adipose tissue</td>\n",
       "      <td>c-22</td>\n",
       "      <td>adipocytes</td>\n",
       "      <td>966392</td>\n",
       "      <td>0.0</td>\n",
       "    </tr>\n",
       "  </tbody>\n",
       "</table>\n",
       "</div>"
      ],
      "text/plain": [
       "                 Gene Gene name          Tissue Cluster   Cell type  \\\n",
       "11    ENSG00000000003    TSPAN6  adipose tissue    c-11  adipocytes   \n",
       "22    ENSG00000000003    TSPAN6  adipose tissue    c-22  adipocytes   \n",
       "455   ENSG00000000005      TNMD  adipose tissue    c-11  adipocytes   \n",
       "466   ENSG00000000005      TNMD  adipose tissue    c-22  adipocytes   \n",
       "899   ENSG00000000419      DPM1  adipose tissue    c-11  adipocytes   \n",
       "910   ENSG00000000419      DPM1  adipose tissue    c-22  adipocytes   \n",
       "1343  ENSG00000000457     SCYL3  adipose tissue    c-11  adipocytes   \n",
       "1354  ENSG00000000457     SCYL3  adipose tissue    c-22  adipocytes   \n",
       "1787  ENSG00000000460  C1orf112  adipose tissue    c-11  adipocytes   \n",
       "1798  ENSG00000000460  C1orf112  adipose tissue    c-22  adipocytes   \n",
       "\n",
       "      Read count   pTPM  \n",
       "11       5809519  248.2  \n",
       "22        966392  132.5  \n",
       "455      5809519   78.7  \n",
       "466       966392   41.4  \n",
       "899      5809519   53.5  \n",
       "910       966392   31.0  \n",
       "1343     5809519    6.4  \n",
       "1354      966392    4.1  \n",
       "1787     5809519    1.7  \n",
       "1798      966392    0.0  "
      ]
     },
     "execution_count": 14,
     "metadata": {},
     "output_type": "execute_result"
    }
   ],
   "source": [
    "df_ts = pd.read_csv(utils.Paths.RNA_TISSUES_PATH, sep = '\\t').sort_values([\"Tissue\", \"Cell type\"])\n",
    "df_ts.head(10)"
   ]
  },
  {
   "cell_type": "code",
   "execution_count": 27,
   "metadata": {},
   "outputs": [
    {
     "name": "stdout",
     "output_type": "stream",
     "text": [
      "Value counts for (Tissue, Cell type, Gene name, Cluster) similar to above, but need to average over clusters:\n"
     ]
    },
    {
     "data": {
      "text/plain": [
       "1    8912856\n",
       "2       3552\n",
       "dtype: int64"
      ]
     },
     "execution_count": 27,
     "metadata": {},
     "output_type": "execute_result"
    }
   ],
   "source": [
    "df_g_size = df_ts.groupby([\"Tissue\", \"Cell type\", \"Gene name\", \"Cluster\"]).agg(\"size\")\n",
    "print(f\"Value counts for (Tissue, Cell type, Gene name, Cluster) similar to above, but need to average over clusters:\")\n",
    "df_g_size.value_counts()"
   ]
  },
  {
   "cell_type": "code",
   "execution_count": 50,
   "metadata": {},
   "outputs": [
    {
     "data": {
      "text/html": [
       "<div>\n",
       "<style scoped>\n",
       "    .dataframe tbody tr th:only-of-type {\n",
       "        vertical-align: middle;\n",
       "    }\n",
       "\n",
       "    .dataframe tbody tr th {\n",
       "        vertical-align: top;\n",
       "    }\n",
       "\n",
       "    .dataframe thead th {\n",
       "        text-align: right;\n",
       "    }\n",
       "</style>\n",
       "<table border=\"1\" class=\"dataframe\">\n",
       "  <thead>\n",
       "    <tr style=\"text-align: right;\">\n",
       "      <th></th>\n",
       "      <th></th>\n",
       "      <th></th>\n",
       "      <th>pTPM</th>\n",
       "    </tr>\n",
       "    <tr>\n",
       "      <th>Tissue</th>\n",
       "      <th>Cell type</th>\n",
       "      <th>Gene name</th>\n",
       "      <th></th>\n",
       "    </tr>\n",
       "  </thead>\n",
       "  <tbody>\n",
       "    <tr>\n",
       "      <th rowspan=\"5\" valign=\"top\">adipose tissue</th>\n",
       "      <th rowspan=\"5\" valign=\"top\">adipocytes</th>\n",
       "      <th>A1BG</th>\n",
       "      <td>8.45</td>\n",
       "    </tr>\n",
       "    <tr>\n",
       "      <th>A1CF</th>\n",
       "      <td>0.00</td>\n",
       "    </tr>\n",
       "    <tr>\n",
       "      <th>A2M</th>\n",
       "      <td>1126.70</td>\n",
       "    </tr>\n",
       "    <tr>\n",
       "      <th>A2ML1</th>\n",
       "      <td>0.00</td>\n",
       "    </tr>\n",
       "    <tr>\n",
       "      <th>A3GALT2</th>\n",
       "      <td>0.00</td>\n",
       "    </tr>\n",
       "  </tbody>\n",
       "</table>\n",
       "</div>"
      ],
      "text/plain": [
       "                                        pTPM\n",
       "Tissue         Cell type  Gene name         \n",
       "adipose tissue adipocytes A1BG          8.45\n",
       "                          A1CF          0.00\n",
       "                          A2M        1126.70\n",
       "                          A2ML1         0.00\n",
       "                          A3GALT2       0.00"
      ]
     },
     "execution_count": 50,
     "metadata": {},
     "output_type": "execute_result"
    }
   ],
   "source": [
    "df_tx = df_ts.groupby([\"Tissue\", \"Cell type\", \"Gene name\"])[['pTPM']].median()\n",
    "df_tx.head()"
   ]
  },
  {
   "cell_type": "markdown",
   "metadata": {},
   "source": [
    "### Correlate naively protein - expression"
   ]
  },
  {
   "cell_type": "code",
   "execution_count": 109,
   "metadata": {},
   "outputs": [
    {
     "name": "stderr",
     "output_type": "stream",
     "text": [
      "/home/eugen/miniconda3/envs/gnn/lib/python3.8/site-packages/pandas/core/arraylike.py:364: RuntimeWarning: divide by zero encountered in log\n",
      "  result = getattr(ufunc, method)(*inputs, **kwargs)\n"
     ]
    },
    {
     "data": {
      "text/html": [
       "<div>\n",
       "<style scoped>\n",
       "    .dataframe tbody tr th:only-of-type {\n",
       "        vertical-align: middle;\n",
       "    }\n",
       "\n",
       "    .dataframe tbody tr th {\n",
       "        vertical-align: top;\n",
       "    }\n",
       "\n",
       "    .dataframe thead th {\n",
       "        text-align: right;\n",
       "    }\n",
       "</style>\n",
       "<table border=\"1\" class=\"dataframe\">\n",
       "  <thead>\n",
       "    <tr style=\"text-align: right;\">\n",
       "      <th></th>\n",
       "      <th>Tissue</th>\n",
       "      <th>Cell type</th>\n",
       "      <th>Gene name</th>\n",
       "      <th>Protein_level</th>\n",
       "      <th>pTPM</th>\n",
       "      <th>log_pTPM</th>\n",
       "    </tr>\n",
       "  </thead>\n",
       "  <tbody>\n",
       "    <tr>\n",
       "      <th>0</th>\n",
       "      <td>adipose tissue</td>\n",
       "      <td>adipocytes</td>\n",
       "      <td>AAAS</td>\n",
       "      <td>0</td>\n",
       "      <td>13.90</td>\n",
       "      <td>2.631889</td>\n",
       "    </tr>\n",
       "    <tr>\n",
       "      <th>1</th>\n",
       "      <td>adipose tissue</td>\n",
       "      <td>adipocytes</td>\n",
       "      <td>AACS</td>\n",
       "      <td>2</td>\n",
       "      <td>7.70</td>\n",
       "      <td>2.041220</td>\n",
       "    </tr>\n",
       "    <tr>\n",
       "      <th>2</th>\n",
       "      <td>adipose tissue</td>\n",
       "      <td>adipocytes</td>\n",
       "      <td>AADAC</td>\n",
       "      <td>0</td>\n",
       "      <td>91.65</td>\n",
       "      <td>4.517977</td>\n",
       "    </tr>\n",
       "    <tr>\n",
       "      <th>3</th>\n",
       "      <td>adipose tissue</td>\n",
       "      <td>adipocytes</td>\n",
       "      <td>AAMP</td>\n",
       "      <td>3</td>\n",
       "      <td>62.00</td>\n",
       "      <td>4.127134</td>\n",
       "    </tr>\n",
       "    <tr>\n",
       "      <th>4</th>\n",
       "      <td>adipose tissue</td>\n",
       "      <td>adipocytes</td>\n",
       "      <td>AARS2</td>\n",
       "      <td>1</td>\n",
       "      <td>2.75</td>\n",
       "      <td>1.011601</td>\n",
       "    </tr>\n",
       "  </tbody>\n",
       "</table>\n",
       "</div>"
      ],
      "text/plain": [
       "           Tissue   Cell type Gene name  Protein_level   pTPM  log_pTPM\n",
       "0  adipose tissue  adipocytes      AAAS              0  13.90  2.631889\n",
       "1  adipose tissue  adipocytes      AACS              2   7.70  2.041220\n",
       "2  adipose tissue  adipocytes     AADAC              0  91.65  4.517977\n",
       "3  adipose tissue  adipocytes      AAMP              3  62.00  4.127134\n",
       "4  adipose tissue  adipocytes     AARS2              1   2.75  1.011601"
      ]
     },
     "execution_count": 109,
     "metadata": {},
     "output_type": "execute_result"
    }
   ],
   "source": [
    "df = pd.merge(df_prot, df_tx, how = \"inner\", left_index = True, right_index = True)\n",
    "df = df.rename(columns = {\n",
    "    \"Level_numeric\": \"Protein_level\",\n",
    "})\n",
    "\n",
    "df['log_pTPM'] = np.log(df['pTPM'])\n",
    "\n",
    "df.reset_index(inplace = True)\n",
    "\n",
    "df.head()"
   ]
  },
  {
   "cell_type": "code",
   "execution_count": 123,
   "metadata": {},
   "outputs": [
    {
     "data": {
      "text/html": [
       "<div>\n",
       "<style scoped>\n",
       "    .dataframe tbody tr th:only-of-type {\n",
       "        vertical-align: middle;\n",
       "    }\n",
       "\n",
       "    .dataframe tbody tr th {\n",
       "        vertical-align: top;\n",
       "    }\n",
       "\n",
       "    .dataframe thead th {\n",
       "        text-align: right;\n",
       "    }\n",
       "</style>\n",
       "<table border=\"1\" class=\"dataframe\">\n",
       "  <thead>\n",
       "    <tr style=\"text-align: right;\">\n",
       "      <th></th>\n",
       "      <th>Tissue</th>\n",
       "      <th>Cell type</th>\n",
       "      <th>Gene name</th>\n",
       "      <th>Protein_level</th>\n",
       "      <th>pTPM</th>\n",
       "      <th>log_pTPM</th>\n",
       "      <th>pTPM_rank</th>\n",
       "    </tr>\n",
       "  </thead>\n",
       "  <tbody>\n",
       "    <tr>\n",
       "      <th>0</th>\n",
       "      <td>adipose tissue</td>\n",
       "      <td>adipocytes</td>\n",
       "      <td>AAAS</td>\n",
       "      <td>0</td>\n",
       "      <td>13.90</td>\n",
       "      <td>2.631889</td>\n",
       "      <td>2613.0</td>\n",
       "    </tr>\n",
       "    <tr>\n",
       "      <th>1</th>\n",
       "      <td>adipose tissue</td>\n",
       "      <td>adipocytes</td>\n",
       "      <td>AACS</td>\n",
       "      <td>2</td>\n",
       "      <td>7.70</td>\n",
       "      <td>2.041220</td>\n",
       "      <td>1908.5</td>\n",
       "    </tr>\n",
       "    <tr>\n",
       "      <th>2</th>\n",
       "      <td>adipose tissue</td>\n",
       "      <td>adipocytes</td>\n",
       "      <td>AADAC</td>\n",
       "      <td>0</td>\n",
       "      <td>91.65</td>\n",
       "      <td>4.517977</td>\n",
       "      <td>4909.0</td>\n",
       "    </tr>\n",
       "    <tr>\n",
       "      <th>3</th>\n",
       "      <td>adipose tissue</td>\n",
       "      <td>adipocytes</td>\n",
       "      <td>AAMP</td>\n",
       "      <td>3</td>\n",
       "      <td>62.00</td>\n",
       "      <td>4.127134</td>\n",
       "      <td>4614.0</td>\n",
       "    </tr>\n",
       "    <tr>\n",
       "      <th>4</th>\n",
       "      <td>adipose tissue</td>\n",
       "      <td>adipocytes</td>\n",
       "      <td>AARS2</td>\n",
       "      <td>1</td>\n",
       "      <td>2.75</td>\n",
       "      <td>1.011601</td>\n",
       "      <td>1214.5</td>\n",
       "    </tr>\n",
       "  </tbody>\n",
       "</table>\n",
       "</div>"
      ],
      "text/plain": [
       "           Tissue   Cell type Gene name  Protein_level   pTPM  log_pTPM  \\\n",
       "0  adipose tissue  adipocytes      AAAS              0  13.90  2.631889   \n",
       "1  adipose tissue  adipocytes      AACS              2   7.70  2.041220   \n",
       "2  adipose tissue  adipocytes     AADAC              0  91.65  4.517977   \n",
       "3  adipose tissue  adipocytes      AAMP              3  62.00  4.127134   \n",
       "4  adipose tissue  adipocytes     AARS2              1   2.75  1.011601   \n",
       "\n",
       "   pTPM_rank  \n",
       "0     2613.0  \n",
       "1     1908.5  \n",
       "2     4909.0  \n",
       "3     4614.0  \n",
       "4     1214.5  "
      ]
     },
     "execution_count": 123,
     "metadata": {},
     "output_type": "execute_result"
    }
   ],
   "source": [
    "def add_gene_ranks(df) -> pd.DataFrame:\n",
    "    df_ = df.copy()\n",
    "    gene_ranks_per_celltype = df_.set_index(['Tissue', 'Cell type']).groupby(['Tissue', 'Cell type'])['pTPM'].rank()\n",
    "    df_['pTPM_rank'] = gene_ranks_per_celltype.values\n",
    "    return df_\n",
    "\n",
    "df = add_gene_ranks(df)\n",
    "df.head()"
   ]
  },
  {
   "cell_type": "code",
   "execution_count": 111,
   "metadata": {},
   "outputs": [
    {
     "data": {
      "text/plain": [
       "<AxesSubplot:xlabel='Protein_level', ylabel='pTPM_rank'>"
      ]
     },
     "execution_count": 111,
     "metadata": {},
     "output_type": "execute_result"
    },
    {
     "data": {
      "image/png": "[encoded data removed]",
      "text/plain": [
       "<Figure size 432x288 with 1 Axes>"
      ]
     },
     "metadata": {
      "needs_background": "light"
     },
     "output_type": "display_data"
    }
   ],
   "source": [
    "sns.scatterplot(data=df, x='Protein_level', y='pTPM_rank')"
   ]
  },
  {
   "cell_type": "code",
   "execution_count": 116,
   "metadata": {},
   "outputs": [
    {
     "name": "stdout",
     "output_type": "stream",
     "text": [
      "\n",
      "        Pearson: (0.2390953915332532, 0.0)\n",
      "        Kendall: KendalltauResult(correlation=0.19067849946024515, pvalue=0.0)\n",
      "        Spearman: SpearmanrResult(correlation=0.24893672351007715, pvalue=0.0)\n",
      "    \n"
     ]
    }
   ],
   "source": [
    "def compute_correlations(x, y) -> tuple:\n",
    "\n",
    "    pearson_r = stats.pearsonr(x, y)\n",
    "    kendall_tau = stats.kendalltau(x, y)\n",
    "    spearman_r = stats.spearmanr(x, y)\n",
    "\n",
    "    print(f\"\"\"\n",
    "        Pearson: {pearson_r}\n",
    "        Kendall: {kendall_tau}\n",
    "        Spearman: {spearman_r}\n",
    "    \"\"\")\n",
    "\n",
    "    return (pearson_r, kendall_tau, spearman_r)\n",
    "\n",
    "compute_correlations(df['Protein_level'], df['pTPM_rank']);"
   ]
  },
  {
   "cell_type": "markdown",
   "metadata": {},
   "source": [
    "## Compute correlations on LRI genes"
   ]
  },
  {
   "cell_type": "code",
   "execution_count": 117,
   "metadata": {},
   "outputs": [
    {
     "name": "stderr",
     "output_type": "stream",
     "text": [
      "/home/eugen/miniconda3/envs/gnn/lib/python3.8/site-packages/IPython/core/interactiveshell.py:3444: FutureWarning: The error_bad_lines argument has been deprecated and will be removed in a future version.\n",
      "\n",
      "\n",
      "  exec(code_obj, self.user_global_ns, self.user_ns)\n",
      "b'Skipping line 3385: expected 8 fields, saw 10\\nSkipping line 3392: expected 8 fields, saw 10\\nSkipping line 3397: expected 8 fields, saw 10\\n'\n"
     ]
    },
    {
     "data": {
      "text/html": [
       "<div>\n",
       "<style scoped>\n",
       "    .dataframe tbody tr th:only-of-type {\n",
       "        vertical-align: middle;\n",
       "    }\n",
       "\n",
       "    .dataframe tbody tr th {\n",
       "        vertical-align: top;\n",
       "    }\n",
       "\n",
       "    .dataframe thead th {\n",
       "        text-align: right;\n",
       "    }\n",
       "</style>\n",
       "<table border=\"1\" class=\"dataframe\">\n",
       "  <thead>\n",
       "    <tr style=\"text-align: right;\">\n",
       "      <th></th>\n",
       "      <th>LRI</th>\n",
       "      <th>LIGAND_1</th>\n",
       "      <th>LIGAND_2</th>\n",
       "      <th>RECEPTOR_1</th>\n",
       "      <th>RECEPTOR_2</th>\n",
       "      <th>RECEPTOR_3</th>\n",
       "      <th>DATABASE</th>\n",
       "      <th>SOURCE</th>\n",
       "    </tr>\n",
       "  </thead>\n",
       "  <tbody>\n",
       "    <tr>\n",
       "      <th>0</th>\n",
       "      <td>CRISP3:A1BG</td>\n",
       "      <td>CRISP3</td>\n",
       "      <td>NaN</td>\n",
       "      <td>A1BG</td>\n",
       "      <td>NaN</td>\n",
       "      <td>NaN</td>\n",
       "      <td>CellTalkDB</td>\n",
       "      <td>PMID:15461460</td>\n",
       "    </tr>\n",
       "    <tr>\n",
       "      <th>1</th>\n",
       "      <td>A2M:LRP1</td>\n",
       "      <td>A2M</td>\n",
       "      <td>NaN</td>\n",
       "      <td>LRP1</td>\n",
       "      <td>NaN</td>\n",
       "      <td>NaN</td>\n",
       "      <td>CellTalkDB;connectomeDB2020;NicheNet;SingleCel...</td>\n",
       "      <td>FANTOM5;HPMR;HPRD;PMID:10652313;PMID:12194978;...</td>\n",
       "    </tr>\n",
       "    <tr>\n",
       "      <th>2</th>\n",
       "      <td>AANAT:MTNR1A</td>\n",
       "      <td>AANAT</td>\n",
       "      <td>NaN</td>\n",
       "      <td>MTNR1A</td>\n",
       "      <td>NaN</td>\n",
       "      <td>NaN</td>\n",
       "      <td>CellTalkDB;connectomeDB2020;NicheNet;SingleCel...</td>\n",
       "      <td>FANTOM5;HPMR;PMID:12943195</td>\n",
       "    </tr>\n",
       "  </tbody>\n",
       "</table>\n",
       "</div>"
      ],
      "text/plain": [
       "            LRI LIGAND_1 LIGAND_2 RECEPTOR_1 RECEPTOR_2 RECEPTOR_3  \\\n",
       "0   CRISP3:A1BG   CRISP3      NaN       A1BG        NaN        NaN   \n",
       "1      A2M:LRP1      A2M      NaN       LRP1        NaN        NaN   \n",
       "2  AANAT:MTNR1A    AANAT      NaN     MTNR1A        NaN        NaN   \n",
       "\n",
       "                                            DATABASE  \\\n",
       "0                                         CellTalkDB   \n",
       "1  CellTalkDB;connectomeDB2020;NicheNet;SingleCel...   \n",
       "2  CellTalkDB;connectomeDB2020;NicheNet;SingleCel...   \n",
       "\n",
       "                                              SOURCE  \n",
       "0                                      PMID:15461460  \n",
       "1  FANTOM5;HPMR;HPRD;PMID:10652313;PMID:12194978;...  \n",
       "2                         FANTOM5;HPMR;PMID:12943195  "
      ]
     },
     "execution_count": 117,
     "metadata": {},
     "output_type": "execute_result"
    }
   ],
   "source": [
    "df_lri = pd.read_csv(\"LRI_human.tsv\", sep='\\t', error_bad_lines=False)\n",
    "df_lri.head(3)"
   ]
  },
  {
   "cell_type": "code",
   "execution_count": 120,
   "metadata": {},
   "outputs": [],
   "source": [
    "ligands = (\n",
    "    set(df_lri['LIGAND_1'])\n",
    "    .union(set(df_lri['LIGAND_2']))\n",
    ")\n",
    "receptors = (\n",
    "    set(df_lri['RECEPTOR_1'])\n",
    "    .union(set(df_lri['RECEPTOR_2']))\n",
    "    .union(set(df_lri['RECEPTOR_3']))\n",
    ")"
   ]
  },
  {
   "cell_type": "code",
   "execution_count": 124,
   "metadata": {},
   "outputs": [
    {
     "name": "stdout",
     "output_type": "stream",
     "text": [
      "Correlations on ligands\n",
      "Shape of HPA from LRI ligands: (1808, 7)\n",
      "\n",
      "        Pearson: (0.19122477079776634, 2.380836199053689e-16)\n",
      "        Kendall: KendalltauResult(correlation=0.1615292760091207, pvalue=1.8312026185142895e-18)\n",
      "        Spearman: SpearmanrResult(correlation=0.20535507141988285, pvalue=1.1452215549443404e-18)\n",
      "    \n"
     ]
    }
   ],
   "source": [
    "print(\"Correlations on ligands\")\n",
    "\n",
    "df_l = df.loc[df['Gene name'].isin(ligands)]\n",
    "print(f\"Shape of HPA from LRI ligands: {df_l.shape}\")\n",
    "\n",
    "df_l = add_gene_ranks(df_l)\n",
    "\n",
    "compute_correlations(df_l['Protein_level'], df_l['pTPM_rank']);"
   ]
  },
  {
   "cell_type": "code",
   "execution_count": 125,
   "metadata": {},
   "outputs": [
    {
     "name": "stdout",
     "output_type": "stream",
     "text": [
      "Correlations on receptors\n",
      "Shape of HPA from LRI ligands: (2264, 7)\n",
      "\n",
      "        Pearson: (0.28130797607408065, 1.902552180493847e-42)\n",
      "        Kendall: KendalltauResult(correlation=0.21902757385359717, pvalue=2.143637900785664e-41)\n",
      "        Spearman: SpearmanrResult(correlation=0.28322209633179696, pvalue=5.008499255512636e-43)\n",
      "    \n"
     ]
    }
   ],
   "source": [
    "print(\"Correlations on receptors\")\n",
    "\n",
    "df_r = df.loc[df['Gene name'].isin(receptors)]\n",
    "print(f\"Shape of HPA from LRI ligands: {df_r.shape}\")\n",
    "\n",
    "df_r = add_gene_ranks(df_r)\n",
    "\n",
    "compute_correlations(df_r['Protein_level'], df_r['pTPM_rank']);"
   ]
  },
  {
   "cell_type": "code",
   "execution_count": null,
   "metadata": {},
   "outputs": [],
   "source": []
  }
 ],
 "metadata": {
  "interpreter": {
   "hash": "7187b68757462448673d9b0c12050c39591ce7281567da7b84259581a46b0c3d"
  },
  "kernelspec": {
   "display_name": "Python 3.8.12 ('gnn')",
   "language": "python",
   "name": "python3"
  },
  "language_info": {
   "codemirror_mode": {
    "name": "ipython",
    "version": 3
   },
   "file_extension": ".py",
   "mimetype": "text/x-python",
   "name": "python",
   "nbconvert_exporter": "python",
   "pygments_lexer": "ipython3",
   "version": "3.8.12"
  },
  "orig_nbformat": 4
 },
 "nbformat": 4,
 "nbformat_minor": 2
}
